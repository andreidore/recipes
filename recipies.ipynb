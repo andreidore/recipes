{
  "nbformat": 4,
  "nbformat_minor": 0,
  "metadata": {
    "colab": {
      "name": "recipies.ipynb",
      "provenance": [],
      "collapsed_sections": [],
      "machine_shape": "hm",
      "authorship_tag": "ABX9TyMrUqk/VuhzApQ4/3rXeywV",
      "include_colab_link": true
    },
    "kernelspec": {
      "name": "python3",
      "display_name": "Python 3"
    },
    "language_info": {
      "name": "python"
    },
    "accelerator": "GPU"
  },
  "cells": [
    {
      "cell_type": "markdown",
      "metadata": {
        "id": "view-in-github",
        "colab_type": "text"
      },
      "source": [
        "<a href=\"https://colab.research.google.com/github/andreidore/recipes/blob/main/recipies.ipynb\" target=\"_parent\"><img src=\"https://colab.research.google.com/assets/colab-badge.svg\" alt=\"Open In Colab\"/></a>"
      ]
    },
    {
      "cell_type": "code",
      "metadata": {
        "colab": {
          "base_uri": "https://localhost:8080/"
        },
        "id": "PZcDDTL4cqyX",
        "outputId": "230248b2-a96e-468b-a824-5eeb7e21fd29"
      },
      "source": [
        "!pip install transformers"
      ],
      "execution_count": 103,
      "outputs": [
        {
          "output_type": "stream",
          "name": "stdout",
          "text": [
            "Requirement already satisfied: transformers in /usr/local/lib/python3.7/dist-packages (4.12.2)\n",
            "Requirement already satisfied: packaging>=20.0 in /usr/local/lib/python3.7/dist-packages (from transformers) (21.0)\n",
            "Requirement already satisfied: tqdm>=4.27 in /usr/local/lib/python3.7/dist-packages (from transformers) (4.62.3)\n",
            "Requirement already satisfied: pyyaml>=5.1 in /usr/local/lib/python3.7/dist-packages (from transformers) (6.0)\n",
            "Requirement already satisfied: importlib-metadata in /usr/local/lib/python3.7/dist-packages (from transformers) (4.8.1)\n",
            "Requirement already satisfied: sacremoses in /usr/local/lib/python3.7/dist-packages (from transformers) (0.0.46)\n",
            "Requirement already satisfied: numpy>=1.17 in /usr/local/lib/python3.7/dist-packages (from transformers) (1.19.5)\n",
            "Requirement already satisfied: tokenizers<0.11,>=0.10.1 in /usr/local/lib/python3.7/dist-packages (from transformers) (0.10.3)\n",
            "Requirement already satisfied: huggingface-hub>=0.0.17 in /usr/local/lib/python3.7/dist-packages (from transformers) (0.0.19)\n",
            "Requirement already satisfied: filelock in /usr/local/lib/python3.7/dist-packages (from transformers) (3.3.0)\n",
            "Requirement already satisfied: requests in /usr/local/lib/python3.7/dist-packages (from transformers) (2.23.0)\n",
            "Requirement already satisfied: regex!=2019.12.17 in /usr/local/lib/python3.7/dist-packages (from transformers) (2019.12.20)\n",
            "Requirement already satisfied: typing-extensions in /usr/local/lib/python3.7/dist-packages (from huggingface-hub>=0.0.17->transformers) (3.7.4.3)\n",
            "Requirement already satisfied: pyparsing>=2.0.2 in /usr/local/lib/python3.7/dist-packages (from packaging>=20.0->transformers) (2.4.7)\n",
            "Requirement already satisfied: zipp>=0.5 in /usr/local/lib/python3.7/dist-packages (from importlib-metadata->transformers) (3.6.0)\n",
            "Requirement already satisfied: chardet<4,>=3.0.2 in /usr/local/lib/python3.7/dist-packages (from requests->transformers) (3.0.4)\n",
            "Requirement already satisfied: idna<3,>=2.5 in /usr/local/lib/python3.7/dist-packages (from requests->transformers) (2.10)\n",
            "Requirement already satisfied: certifi>=2017.4.17 in /usr/local/lib/python3.7/dist-packages (from requests->transformers) (2021.5.30)\n",
            "Requirement already satisfied: urllib3!=1.25.0,!=1.25.1,<1.26,>=1.21.1 in /usr/local/lib/python3.7/dist-packages (from requests->transformers) (1.24.3)\n",
            "Requirement already satisfied: joblib in /usr/local/lib/python3.7/dist-packages (from sacremoses->transformers) (1.0.1)\n",
            "Requirement already satisfied: click in /usr/local/lib/python3.7/dist-packages (from sacremoses->transformers) (7.1.2)\n",
            "Requirement already satisfied: six in /usr/local/lib/python3.7/dist-packages (from sacremoses->transformers) (1.15.0)\n"
          ]
        }
      ]
    },
    {
      "cell_type": "code",
      "metadata": {
        "id": "KAXT6WL-aSfx"
      },
      "source": [
        "import pandas as pd\n",
        "import numpy as np\n",
        "import re\n",
        "import nltk\n",
        "from nltk.corpus import stopwords\n",
        "from nltk.tokenize import word_tokenize, sent_tokenize\n",
        "import matplotlib.pyplot as plt\n",
        "from sklearn import preprocessing\n",
        "import tensorflow as tf\n",
        "import tensorflow.keras as keras\n",
        "import tensorflow.keras.layers as layers\n",
        "from tqdm import tqdm\n",
        "from transformers import AutoTokenizer, TFBertModel, BertConfig"
      ],
      "execution_count": 104,
      "outputs": []
    },
    {
      "cell_type": "code",
      "metadata": {
        "colab": {
          "base_uri": "https://localhost:8080/"
        },
        "id": "9a_Q1w5-oYQV",
        "outputId": "4ab3db79-9e60-4b62-eb9d-9e28fd275c71"
      },
      "source": [
        "nltk.download('stopwords')\n",
        "nltk.download('punkt')\n",
        "stop_words = set(stopwords.words('english'))\n",
        "\n",
        "\n",
        "\n",
        "tokenizer = AutoTokenizer.from_pretrained(\"bert-base-uncased\")\n"
      ],
      "execution_count": 105,
      "outputs": [
        {
          "output_type": "stream",
          "name": "stdout",
          "text": [
            "[nltk_data] Downloading package stopwords to /root/nltk_data...\n",
            "[nltk_data]   Package stopwords is already up-to-date!\n",
            "[nltk_data] Downloading package punkt to /root/nltk_data...\n",
            "[nltk_data]   Package punkt is already up-to-date!\n"
          ]
        }
      ]
    },
    {
      "cell_type": "code",
      "metadata": {
        "id": "pcvguEzqabTG"
      },
      "source": [
        "df=pd.read_csv(\"recipes.csv\",sep=\";\")"
      ],
      "execution_count": 106,
      "outputs": []
    },
    {
      "cell_type": "code",
      "metadata": {
        "colab": {
          "base_uri": "https://localhost:8080/",
          "height": 306
        },
        "id": "fFpnu7zAbSPx",
        "outputId": "0d12b447-36ad-4f48-fff4-0a7c72ccd64b"
      },
      "source": [
        "df.head()"
      ],
      "execution_count": 107,
      "outputs": [
        {
          "output_type": "execute_result",
          "data": {
            "text/html": [
              "<div>\n",
              "<style scoped>\n",
              "    .dataframe tbody tr th:only-of-type {\n",
              "        vertical-align: middle;\n",
              "    }\n",
              "\n",
              "    .dataframe tbody tr th {\n",
              "        vertical-align: top;\n",
              "    }\n",
              "\n",
              "    .dataframe thead th {\n",
              "        text-align: right;\n",
              "    }\n",
              "</style>\n",
              "<table border=\"1\" class=\"dataframe\">\n",
              "  <thead>\n",
              "    <tr style=\"text-align: right;\">\n",
              "      <th></th>\n",
              "      <th>Recipe Name</th>\n",
              "      <th>Review Count</th>\n",
              "      <th>Recipe Photo</th>\n",
              "      <th>Author</th>\n",
              "      <th>Prepare Time</th>\n",
              "      <th>Cook Time</th>\n",
              "      <th>Total Time</th>\n",
              "      <th>Ingredients</th>\n",
              "      <th>Directions</th>\n",
              "      <th>RecipeID</th>\n",
              "    </tr>\n",
              "  </thead>\n",
              "  <tbody>\n",
              "    <tr>\n",
              "      <th>0</th>\n",
              "      <td>Golden Crescent Rolls Recipe</td>\n",
              "      <td>304</td>\n",
              "      <td>https://images.media-allrecipes.com/userphotos...</td>\n",
              "      <td>Mike A.</td>\n",
              "      <td>25 m</td>\n",
              "      <td>15 m</td>\n",
              "      <td>3 h 10 m</td>\n",
              "      <td>yeast,water,white sugar,salt,egg,butter,flour,...</td>\n",
              "      <td>Dissolve yeast in warm water.**Stir in sugar, ...</td>\n",
              "      <td>7000</td>\n",
              "    </tr>\n",
              "    <tr>\n",
              "      <th>1</th>\n",
              "      <td>Poppy Seed Bread with Glaze Recipe</td>\n",
              "      <td>137</td>\n",
              "      <td>https://images.media-allrecipes.com/userphotos...</td>\n",
              "      <td>Christina Jun</td>\n",
              "      <td>15 m</td>\n",
              "      <td>1 h</td>\n",
              "      <td>1 h 20 m</td>\n",
              "      <td>flour,salt,baking powder,poppy,butter,vegetabl...</td>\n",
              "      <td>'Preheat oven to 350 degrees F (175 degrees C)...</td>\n",
              "      <td>7001</td>\n",
              "    </tr>\n",
              "    <tr>\n",
              "      <th>2</th>\n",
              "      <td>Applesauce Bread I Recipe</td>\n",
              "      <td>124</td>\n",
              "      <td>https://images.media-allrecipes.com/userphotos...</td>\n",
              "      <td>GAF55</td>\n",
              "      <td>10 m</td>\n",
              "      <td>1 h 20 m</td>\n",
              "      <td>1 h 30 m</td>\n",
              "      <td>flour,egg,white sugar,vegetable oil,applesauce...</td>\n",
              "      <td>Preheat oven to 350 degrees F (175 degrees C)....</td>\n",
              "      <td>7003</td>\n",
              "    </tr>\n",
              "    <tr>\n",
              "      <th>3</th>\n",
              "      <td>Apple Raisin Bread Recipe</td>\n",
              "      <td>39</td>\n",
              "      <td>https://images.media-allrecipes.com/userphotos...</td>\n",
              "      <td>Helen Hanson</td>\n",
              "      <td>15 m</td>\n",
              "      <td>1 h</td>\n",
              "      <td>1 h 15 m</td>\n",
              "      <td>flour,baking powder,baking soda,salt,cinnamon,...</td>\n",
              "      <td>Preheat oven to 350 degrees F (175 degrees C)....</td>\n",
              "      <td>7006</td>\n",
              "    </tr>\n",
              "    <tr>\n",
              "      <th>4</th>\n",
              "      <td>Buttermilk Oatmeal Bread Recipe</td>\n",
              "      <td>41</td>\n",
              "      <td>https://images.media-allrecipes.com/userphotos...</td>\n",
              "      <td>Helen Hanson</td>\n",
              "      <td>10 m</td>\n",
              "      <td>1 h</td>\n",
              "      <td>1 h 40 m</td>\n",
              "      <td>oat,buttermilk,vegetable oil,egg,brown sugar,f...</td>\n",
              "      <td>Mix oats with buttermilk.  Let stand for 1/2 h...</td>\n",
              "      <td>7007</td>\n",
              "    </tr>\n",
              "  </tbody>\n",
              "</table>\n",
              "</div>"
            ],
            "text/plain": [
              "                           Recipe Name  ... RecipeID\n",
              "0        Golden Crescent Rolls Recipe   ...     7000\n",
              "1  Poppy Seed Bread with Glaze Recipe   ...     7001\n",
              "2           Applesauce Bread I Recipe   ...     7003\n",
              "3           Apple Raisin Bread Recipe   ...     7006\n",
              "4     Buttermilk Oatmeal Bread Recipe   ...     7007\n",
              "\n",
              "[5 rows x 10 columns]"
            ]
          },
          "metadata": {},
          "execution_count": 107
        }
      ]
    },
    {
      "cell_type": "code",
      "metadata": {
        "colab": {
          "base_uri": "https://localhost:8080/",
          "height": 204
        },
        "id": "-265HM2jc21s",
        "outputId": "8bbde5f4-8242-4062-af44-fa63327ff4bd"
      },
      "source": [
        "df=df[[\"Ingredients\",\"Directions\"]]\n",
        "df.head()"
      ],
      "execution_count": 108,
      "outputs": [
        {
          "output_type": "execute_result",
          "data": {
            "text/html": [
              "<div>\n",
              "<style scoped>\n",
              "    .dataframe tbody tr th:only-of-type {\n",
              "        vertical-align: middle;\n",
              "    }\n",
              "\n",
              "    .dataframe tbody tr th {\n",
              "        vertical-align: top;\n",
              "    }\n",
              "\n",
              "    .dataframe thead th {\n",
              "        text-align: right;\n",
              "    }\n",
              "</style>\n",
              "<table border=\"1\" class=\"dataframe\">\n",
              "  <thead>\n",
              "    <tr style=\"text-align: right;\">\n",
              "      <th></th>\n",
              "      <th>Ingredients</th>\n",
              "      <th>Directions</th>\n",
              "    </tr>\n",
              "  </thead>\n",
              "  <tbody>\n",
              "    <tr>\n",
              "      <th>0</th>\n",
              "      <td>yeast,water,white sugar,salt,egg,butter,flour,...</td>\n",
              "      <td>Dissolve yeast in warm water.**Stir in sugar, ...</td>\n",
              "    </tr>\n",
              "    <tr>\n",
              "      <th>1</th>\n",
              "      <td>flour,salt,baking powder,poppy,butter,vegetabl...</td>\n",
              "      <td>'Preheat oven to 350 degrees F (175 degrees C)...</td>\n",
              "    </tr>\n",
              "    <tr>\n",
              "      <th>2</th>\n",
              "      <td>flour,egg,white sugar,vegetable oil,applesauce...</td>\n",
              "      <td>Preheat oven to 350 degrees F (175 degrees C)....</td>\n",
              "    </tr>\n",
              "    <tr>\n",
              "      <th>3</th>\n",
              "      <td>flour,baking powder,baking soda,salt,cinnamon,...</td>\n",
              "      <td>Preheat oven to 350 degrees F (175 degrees C)....</td>\n",
              "    </tr>\n",
              "    <tr>\n",
              "      <th>4</th>\n",
              "      <td>oat,buttermilk,vegetable oil,egg,brown sugar,f...</td>\n",
              "      <td>Mix oats with buttermilk.  Let stand for 1/2 h...</td>\n",
              "    </tr>\n",
              "  </tbody>\n",
              "</table>\n",
              "</div>"
            ],
            "text/plain": [
              "                                         Ingredients                                         Directions\n",
              "0  yeast,water,white sugar,salt,egg,butter,flour,...  Dissolve yeast in warm water.**Stir in sugar, ...\n",
              "1  flour,salt,baking powder,poppy,butter,vegetabl...  'Preheat oven to 350 degrees F (175 degrees C)...\n",
              "2  flour,egg,white sugar,vegetable oil,applesauce...  Preheat oven to 350 degrees F (175 degrees C)....\n",
              "3  flour,baking powder,baking soda,salt,cinnamon,...  Preheat oven to 350 degrees F (175 degrees C)....\n",
              "4  oat,buttermilk,vegetable oil,egg,brown sugar,f...  Mix oats with buttermilk.  Let stand for 1/2 h..."
            ]
          },
          "metadata": {},
          "execution_count": 108
        }
      ]
    },
    {
      "cell_type": "code",
      "metadata": {
        "colab": {
          "base_uri": "https://localhost:8080/"
        },
        "id": "eIuNfS50dAmQ",
        "outputId": "04885738-965c-42b1-f56c-a5082d639dca"
      },
      "source": [
        "df.shape"
      ],
      "execution_count": 109,
      "outputs": [
        {
          "output_type": "execute_result",
          "data": {
            "text/plain": [
              "(12351, 2)"
            ]
          },
          "metadata": {},
          "execution_count": 109
        }
      ]
    },
    {
      "cell_type": "code",
      "metadata": {
        "id": "gtqqwBw7e-sm"
      },
      "source": [
        "df.dropna(inplace=True)\n",
        "df.drop_duplicates(subset=[\"Directions\"], inplace=True)"
      ],
      "execution_count": 110,
      "outputs": []
    },
    {
      "cell_type": "code",
      "metadata": {
        "colab": {
          "base_uri": "https://localhost:8080/",
          "height": 204
        },
        "id": "1VWdUa--Nub2",
        "outputId": "72db4a08-aa91-40e9-90f5-c071bb7f4bda"
      },
      "source": [
        " df['Directions']=df['Directions'].str.lower()\n",
        " df['Ingredients']=df['Ingredients'].str.lower()\n",
        " df.head()"
      ],
      "execution_count": 111,
      "outputs": [
        {
          "output_type": "execute_result",
          "data": {
            "text/html": [
              "<div>\n",
              "<style scoped>\n",
              "    .dataframe tbody tr th:only-of-type {\n",
              "        vertical-align: middle;\n",
              "    }\n",
              "\n",
              "    .dataframe tbody tr th {\n",
              "        vertical-align: top;\n",
              "    }\n",
              "\n",
              "    .dataframe thead th {\n",
              "        text-align: right;\n",
              "    }\n",
              "</style>\n",
              "<table border=\"1\" class=\"dataframe\">\n",
              "  <thead>\n",
              "    <tr style=\"text-align: right;\">\n",
              "      <th></th>\n",
              "      <th>Ingredients</th>\n",
              "      <th>Directions</th>\n",
              "    </tr>\n",
              "  </thead>\n",
              "  <tbody>\n",
              "    <tr>\n",
              "      <th>0</th>\n",
              "      <td>yeast,water,white sugar,salt,egg,butter,flour,...</td>\n",
              "      <td>dissolve yeast in warm water.**stir in sugar, ...</td>\n",
              "    </tr>\n",
              "    <tr>\n",
              "      <th>1</th>\n",
              "      <td>flour,salt,baking powder,poppy,butter,vegetabl...</td>\n",
              "      <td>'preheat oven to 350 degrees f (175 degrees c)...</td>\n",
              "    </tr>\n",
              "    <tr>\n",
              "      <th>2</th>\n",
              "      <td>flour,egg,white sugar,vegetable oil,applesauce...</td>\n",
              "      <td>preheat oven to 350 degrees f (175 degrees c)....</td>\n",
              "    </tr>\n",
              "    <tr>\n",
              "      <th>3</th>\n",
              "      <td>flour,baking powder,baking soda,salt,cinnamon,...</td>\n",
              "      <td>preheat oven to 350 degrees f (175 degrees c)....</td>\n",
              "    </tr>\n",
              "    <tr>\n",
              "      <th>4</th>\n",
              "      <td>oat,buttermilk,vegetable oil,egg,brown sugar,f...</td>\n",
              "      <td>mix oats with buttermilk.  let stand for 1/2 h...</td>\n",
              "    </tr>\n",
              "  </tbody>\n",
              "</table>\n",
              "</div>"
            ],
            "text/plain": [
              "                                         Ingredients                                         Directions\n",
              "0  yeast,water,white sugar,salt,egg,butter,flour,...  dissolve yeast in warm water.**stir in sugar, ...\n",
              "1  flour,salt,baking powder,poppy,butter,vegetabl...  'preheat oven to 350 degrees f (175 degrees c)...\n",
              "2  flour,egg,white sugar,vegetable oil,applesauce...  preheat oven to 350 degrees f (175 degrees c)....\n",
              "3  flour,baking powder,baking soda,salt,cinnamon,...  preheat oven to 350 degrees f (175 degrees c)....\n",
              "4  oat,buttermilk,vegetable oil,egg,brown sugar,f...  mix oats with buttermilk.  let stand for 1/2 h..."
            ]
          },
          "metadata": {},
          "execution_count": 111
        }
      ]
    },
    {
      "cell_type": "code",
      "metadata": {
        "id": "LJfDTl4Wjq9Z"
      },
      "source": [
        ""
      ],
      "execution_count": 111,
      "outputs": []
    },
    {
      "cell_type": "code",
      "metadata": {
        "colab": {
          "base_uri": "https://localhost:8080/"
        },
        "id": "I97v5rxvfDMi",
        "outputId": "cab5980c-9660-4659-b646-d51bce3a3fb2"
      },
      "source": [
        "df.shape"
      ],
      "execution_count": 112,
      "outputs": [
        {
          "output_type": "execute_result",
          "data": {
            "text/plain": [
              "(12184, 2)"
            ]
          },
          "metadata": {},
          "execution_count": 112
        }
      ]
    },
    {
      "cell_type": "markdown",
      "metadata": {
        "id": "mzluxr2R3H8f"
      },
      "source": [
        "Generate unique set of ingredients"
      ]
    },
    {
      "cell_type": "code",
      "metadata": {
        "colab": {
          "base_uri": "https://localhost:8080/"
        },
        "id": "Yk7vbJ3cdKHw",
        "outputId": "ad2ec7b1-c797-4ed1-8dfd-6c10e261632f"
      },
      "source": [
        "def filter(w):\n",
        "\n",
        "  if w.lower in stop_words:\n",
        "    return False\n",
        "\n",
        "  if not w.isalpha():\n",
        "    return False\n",
        "\n",
        "  if len(w)<=2:\n",
        "    return False\n",
        "\n",
        "  if w in [\"cup\",\"cups\",\"fluid\",\"ounce\",\"ounces\",\"dash\",\"dashes\",\"gallon\",\"inch\",\n",
        "           \"square\",\"inches\",\"thick\",\"make\",\"combine\",\"with\",\"the\",\"bottle\",\n",
        "           \"bottled\",\"can\",\"cans\",\"envelope\",\"container\",\"jar\",\"package\",\"packets\",\n",
        "           \"packet\",\"pound\",\"pounds\",\"recipe\",\"rinsed\",\"dried\",\"split\",\"steam\",\"tablespoon\",\n",
        "           \"tablespoons\",\"teaspoons\",\"teaspoon\",\"and\",\"any\"]:\n",
        "    return False\n",
        "\n",
        "  return True\n",
        "\n",
        "\n",
        "\n",
        "def map_ingredient(ingredients):\n",
        "\n",
        "    word_tokens = word_tokenize(ingredients)\n",
        "    \n",
        "    filtered_sentence = [w.lower() for w in word_tokens if filter(w)]\n",
        "\n",
        "    return \" \".join(filtered_sentence)\n",
        "\n",
        "\n",
        "\n",
        "ingredients= [map_ingredient(item) for ing in df[\"Ingredients\"].values for item in ing.split(\",\")]\n",
        "ingredients =[ing for ing in ingredients if len(ing)>0]\n",
        "\n",
        "\n",
        "print(ingredients[0:30])\n",
        "\n",
        "ingredients= set(ingredients)\n",
        "print(len(ingredients))\n",
        "#ingredients"
      ],
      "execution_count": 113,
      "outputs": [
        {
          "output_type": "stream",
          "name": "stdout",
          "text": [
            "['yeast', 'water', 'white sugar', 'salt', 'egg', 'butter', 'flour', 'butter', 'flour', 'salt', 'baking powder', 'poppy', 'butter', 'vegetable oil', 'egg', 'milk', 'white sugar', 'vanilla', 'almond', 'orange juice', 'butter', 'almond', 'vanilla', 'sugar', 'flour', 'egg', 'white sugar', 'vegetable oil', 'applesauce', 'raisin']\n",
            "751\n"
          ]
        }
      ]
    },
    {
      "cell_type": "markdown",
      "metadata": {
        "id": "_kCCp81N3Ox1"
      },
      "source": [
        "Function that generate labels for a sentence"
      ]
    },
    {
      "cell_type": "code",
      "metadata": {
        "id": "E05jZV47krIc"
      },
      "source": [
        "def get_label(direction_sentence,ingredients):\n",
        "\n",
        "  word_tokens = word_tokenize(direction_sentence)\n",
        "  #print(word_tokens)\n",
        "  \n",
        "  labels=[\"O\"]*len(word_tokens)\n",
        "\n",
        "  #return labels\n",
        "\n",
        "  for w in ingredients:\n",
        "\n",
        "    finds=[m.start() for m in re.finditer(w, direction_sentence)]\n",
        "    if len(finds)>0:\n",
        "      #print(w,finds)\n",
        "\n",
        "      words_ingredients_len=len(word_tokenize(w))\n",
        "\n",
        "      for f in finds:\n",
        "\n",
        "        prev_sentence=direction_sentence[:f]\n",
        "\n",
        "        len_prev_sent_words = len(word_tokenize(prev_sentence))\n",
        "\n",
        "        if labels[len_prev_sent_words]==\"I\" or labels[len_prev_sent_words]==\"B\":\n",
        "          continue\n",
        "\n",
        "        if words_ingredients_len==1:\n",
        "          labels[len_prev_sent_words]=\"I\"\n",
        "        else:\n",
        "          labels[len_prev_sent_words:len_prev_sent_words+words_ingredients_len]=[\"B\"]+[\"I\"]*(words_ingredients_len-1)\n",
        "\n",
        "  \n",
        "  return labels  \n"
      ],
      "execution_count": 114,
      "outputs": []
    },
    {
      "cell_type": "code",
      "metadata": {
        "colab": {
          "base_uri": "https://localhost:8080/"
        },
        "id": "BspxqkSr_WFT",
        "outputId": "17065c78-8aa4-457b-debc-26c294f802c1"
      },
      "source": [
        "#sentence=\"Dissolve yeast in warm water and wheat germ and baking powder and water\"\n",
        "sentence=\"**stir in sugar, salt, eggs, butter, and 2 cups of flour\"\n",
        "label=get_label(sentence,ingredients)\n",
        "print(sentence)\n",
        "print(label)"
      ],
      "execution_count": 115,
      "outputs": [
        {
          "output_type": "stream",
          "name": "stdout",
          "text": [
            "**stir in sugar, salt, eggs, butter, and 2 cups of flour\n",
            "['O', 'O', 'I', 'O', 'I', 'O', 'I', 'O', 'I', 'O', 'O', 'O', 'O', 'O', 'I']\n"
          ]
        }
      ]
    },
    {
      "cell_type": "code",
      "metadata": {
        "colab": {
          "base_uri": "https://localhost:8080/"
        },
        "id": "hEZx2t6uRmWd",
        "outputId": "2c46da77-334c-426b-d6e4-304fd086ee7d"
      },
      "source": [
        "label_encoder=preprocessing.LabelEncoder()\n",
        "label_encoder.fit_transform([\"O\",\"B\",\"I\",\"X\"])"
      ],
      "execution_count": 116,
      "outputs": [
        {
          "output_type": "execute_result",
          "data": {
            "text/plain": [
              "array([2, 0, 1, 3])"
            ]
          },
          "metadata": {},
          "execution_count": 116
        }
      ]
    },
    {
      "cell_type": "code",
      "metadata": {
        "colab": {
          "base_uri": "https://localhost:8080/",
          "height": 367
        },
        "id": "PyMJQMDBhGSH",
        "outputId": "d380c344-dbc1-4855-d8b0-4a5bb243c59b"
      },
      "source": [
        "sentences=df[\"Directions\"].values\n",
        "len(sentences)\n",
        "sentences=[s for rec in sentences  for s in sent_tokenize(rec)]\n",
        "print(len(sentences))\n",
        "sentences_len=list(map(lambda x:len(word_tokenize(x)), sentences))\n",
        "\n",
        "print(sentences_len[0:10])\n",
        "\n",
        "\n",
        "plt.hist(sentences_len)\n"
      ],
      "execution_count": 117,
      "outputs": [
        {
          "output_type": "stream",
          "name": "stdout",
          "text": [
            "113276\n",
            "[6, 16, 4, 7, 7, 22, 4, 4, 8, 4]\n"
          ]
        },
        {
          "output_type": "execute_result",
          "data": {
            "text/plain": [
              "(array([4.3089e+04, 4.5893e+04, 1.7927e+04, 5.2470e+03, 8.7100e+02,\n",
              "        1.5900e+02, 7.7000e+01, 1.1000e+01, 1.0000e+00, 1.0000e+00]),\n",
              " array([ 1. ,  8.3, 15.6, 22.9, 30.2, 37.5, 44.8, 52.1, 59.4, 66.7, 74. ]),\n",
              " <a list of 10 Patch objects>)"
            ]
          },
          "metadata": {},
          "execution_count": 117
        },
        {
          "output_type": "display_data",
          "data": {
            "image/png": "[encoded data removed]",
            "text/plain": [
              "<Figure size 432x288 with 1 Axes>"
            ]
          },
          "metadata": {
            "needs_background": "light"
          }
        }
      ]
    },
    {
      "cell_type": "code",
      "metadata": {
        "id": "gdsoW2WUhtML"
      },
      "source": [
        ""
      ],
      "execution_count": 117,
      "outputs": []
    },
    {
      "cell_type": "code",
      "metadata": {
        "colab": {
          "base_uri": "https://localhost:8080/"
        },
        "id": "eS9DRP3ThXgQ",
        "outputId": "de62c818-1e5b-4155-cebc-7df0f2f5a838"
      },
      "source": [
        "\n",
        "max_len=100\n",
        "\n",
        "sentences=sentences[:10000]\n",
        "\n",
        "dataset_dict = {\n",
        "        \"input_ids\": [],\n",
        "        \"token_type_ids\": [],\n",
        "        \"attention_mask\": [],\n",
        "        \"tags\": []\n",
        "    }\n",
        "\n",
        "\n",
        "for sentence in tqdm(sentences):\n",
        "  input_ids = []\n",
        "  target_tags = []\n",
        "\n",
        "  labels=get_label(sentence,ingredients)  \n",
        "  #print(sentence)\n",
        "  #print(labels)\n",
        "  \n",
        "  for idx, word in enumerate(word_tokenize(sentence)):\n",
        "      #print(word) \n",
        "      ids = tokenizer.encode(word, add_special_tokens=False)\n",
        "      #print(ids)\n",
        "      input_ids.extend(ids)\n",
        "      num_tokens = len(ids)\n",
        "      label=label_encoder.transform([labels[idx]]).tolist()[0]\n",
        "      target_tags.extend([label] * num_tokens)\n",
        "\n",
        "  #print(target_tags)\n",
        "\n",
        "  # Pad truncate\n",
        "  input_ids = input_ids[:max_len - 2]\n",
        "  target_tags = target_tags[:max_len - 2]\n",
        "\n",
        "  input_ids = [101] + input_ids + [102]\n",
        "  target_tags = [2] + target_tags + [2]\n",
        "  token_type_ids = [0] * len(input_ids)\n",
        "  attention_mask = [1] * len(input_ids)\n",
        "  padding_len = max_len - len(input_ids)\n",
        "\n",
        "  input_ids = input_ids + ([0] * padding_len)\n",
        "  attention_mask = attention_mask + ([0] * padding_len)\n",
        "  token_type_ids = token_type_ids + ([0] * padding_len)\n",
        "  target_tags = target_tags + ([3] * padding_len)\n",
        "        \n",
        "  dataset_dict[\"input_ids\"].append(input_ids)\n",
        "  dataset_dict[\"token_type_ids\"].append(token_type_ids)\n",
        "  dataset_dict[\"attention_mask\"].append(attention_mask)\n",
        "  dataset_dict[\"tags\"].append(target_tags)\n",
        "  assert len(target_tags) == max_len, f'{len(input_ids)}, {len(target_tags)}'\n",
        "\n",
        "\n",
        "\n",
        "for key in dataset_dict:\n",
        "        dataset_dict[key] = np.array(dataset_dict[key])\n",
        "\n",
        "x = [\n",
        "        dataset_dict[\"input_ids\"],\n",
        "        dataset_dict[\"token_type_ids\"],\n",
        "        dataset_dict[\"attention_mask\"],\n",
        "]\n",
        "y = dataset_dict[\"tags\"]\n"
      ],
      "execution_count": null,
      "outputs": [
        {
          "output_type": "stream",
          "name": "stderr",
          "text": [
            " 62%|██████▏   | 6225/10000 [03:50<02:18, 27.20it/s]"
          ]
        }
      ]
    },
    {
      "cell_type": "code",
      "metadata": {
        "id": "UyD4zq8cVJIh"
      },
      "source": [
        "\n",
        "loss_object=tf.keras.losses.SparseCategoricalCrossentropy(from_logits=False, reduction=tf.keras.losses.Reduction.NONE)\n",
        "\n",
        "def masked_ce_loss(real, pred):\n",
        "    mask = tf.math.logical_not(tf.math.equal(real, 4))\n",
        "    loss_ = loss_object(real, pred)\n",
        "\n",
        "    mask = tf.cast(mask, dtype=loss_.dtype)\n",
        "    loss_ *= mask\n",
        "\n",
        "    return tf.reduce_mean(loss_)\n",
        "\n",
        "\n",
        "encoder = TFBertModel.from_pretrained(\"bert-base-uncased\")\n",
        "\n",
        "input_ids = layers.Input(shape=(max_len,), dtype=tf.int32)\n",
        "token_type_ids = layers.Input(shape=(max_len,), dtype=tf.int32)\n",
        "attention_mask = layers.Input(shape=(max_len,), dtype=tf.int32)\n",
        "embedding = encoder(input_ids, token_type_ids=token_type_ids, attention_mask=attention_mask)[0]\n",
        "embedding = layers.Dropout(0.3)(embedding)\n",
        "tag_logits = layers.Dense(4, activation='softmax')(embedding)\n",
        "    \n",
        "model = keras.Model(\n",
        "        inputs=[input_ids, token_type_ids, attention_mask],\n",
        "        outputs=[tag_logits],\n",
        ")\n",
        "\n",
        "optimizer = keras.optimizers.Adam(learning_rate=3e-5)\n",
        "\n",
        "model.layers[3].trainable = False\n",
        "\n",
        "model.compile(optimizer=optimizer, loss=masked_ce_loss, metrics=['accuracy'])\n",
        "\n",
        "model.summary()\n",
        "\n",
        "\n"
      ],
      "execution_count": null,
      "outputs": []
    },
    {
      "cell_type": "code",
      "metadata": {
        "id": "WjN-8_uRlUYo"
      },
      "source": [
        "history=model.fit(\n",
        "    x,\n",
        "    y,\n",
        "    epochs=5,\n",
        "    verbose=1,\n",
        "    batch_size=12,\n",
        "    validation_split=0.2\n",
        ")"
      ],
      "execution_count": null,
      "outputs": []
    },
    {
      "cell_type": "code",
      "metadata": {
        "id": "NJG1ezBXXilQ"
      },
      "source": [
        "print(history.history.keys())\n",
        "# summarize history for accuracy\n",
        "plt.plot(history.history['accuracy'])\n",
        "plt.plot(history.history['val_accuracy'])\n",
        "plt.title('model accuracy')\n",
        "plt.ylabel('accuracy')\n",
        "plt.xlabel('epoch')\n",
        "plt.legend(['train', 'validation'], loc='upper left')\n",
        "plt.show()\n",
        "# summarize history for loss\n",
        "plt.plot(history.history['loss'])\n",
        "plt.plot(history.history['val_loss'])\n",
        "plt.title('model loss')\n",
        "plt.ylabel('loss')\n",
        "plt.xlabel('epoch')\n",
        "plt.legend(['train', 'validation'], loc='upper left')\n",
        "plt.show()"
      ],
      "execution_count": null,
      "outputs": []
    },
    {
      "cell_type": "code",
      "metadata": {
        "id": "S59KmcpTozlx"
      },
      "source": [
        "model.save('model')"
      ],
      "execution_count": null,
      "outputs": []
    },
    {
      "cell_type": "markdown",
      "metadata": {
        "id": "H5ndSmn_3fq-"
      },
      "source": [
        "Inference"
      ]
    },
    {
      "cell_type": "code",
      "metadata": {
        "id": "DMnsSYmspE7E"
      },
      "source": [
        "def create_test_input_from_text(texts):\n",
        "    dataset_dict = {\n",
        "        \"input_ids\": [],\n",
        "        \"token_type_ids\": [],\n",
        "        \"attention_mask\": []\n",
        "    }\n",
        "    \n",
        "    words_mapping=[]\n",
        "\n",
        "    for sentence in texts:\n",
        "        input_ids = []\n",
        "\n",
        "        w_mapping=[]\n",
        "        words_mapping.append(w_mapping)\n",
        "\n",
        "        for idx, word in enumerate(word_tokenize(sentence)):\n",
        "            #print(word)\n",
        "            ids = tokenizer.encode(word, add_special_tokens=False)\n",
        "            input_ids.extend(ids)\n",
        "            num_tokens = len(ids)\n",
        "            #print(len(ids))\n",
        "            w_mapping.append(len(ids))\n",
        "            \n",
        "        # Pad and create attention masks.\n",
        "        # Skip if truncation is needed\n",
        "        input_ids = input_ids[:max_len - 2]\n",
        "\n",
        "        input_ids = [101] + input_ids + [102]\n",
        "        n_tokens = len(input_ids)\n",
        "        token_type_ids = [0] * len(input_ids)\n",
        "        attention_mask = [1] * len(input_ids)\n",
        "        padding_len = max_len - len(input_ids)\n",
        "\n",
        "        input_ids = input_ids + ([0] * padding_len)\n",
        "        attention_mask = attention_mask + ([0] * padding_len)\n",
        "        token_type_ids = token_type_ids + ([0] * padding_len)\n",
        "        \n",
        "        dataset_dict[\"input_ids\"].append(input_ids)\n",
        "        dataset_dict[\"token_type_ids\"].append(token_type_ids)\n",
        "        dataset_dict[\"attention_mask\"].append(attention_mask)\n",
        "        \n",
        "    for key in dataset_dict:\n",
        "        dataset_dict[key] = np.array(dataset_dict[key])\n",
        "\n",
        "    x = [\n",
        "        dataset_dict[\"input_ids\"],\n",
        "        dataset_dict[\"token_type_ids\"],\n",
        "        dataset_dict[\"attention_mask\"],\n",
        "    ]\n",
        "    return x, n_tokens, words_mapping\n",
        "\n",
        "\n",
        "\n",
        "\n",
        "#test=[\"Top with the reserved mozzarella and Parmesan.\"]\n",
        "test=[\"Place chicken in single layer in ungreased 9x13 inch baking dish\"]\n",
        "\n",
        "x_test,n_tokens,words_mapping=create_test_input_from_text(test)\n",
        "\n",
        "pred_test = model.predict(x_test)\n",
        "#print(pred_test)\n",
        "pred_tags = np.argmax(pred_test,2)[0][:n_tokens]\n",
        "\n",
        "#print(pred_tags)\n",
        "label=label_encoder.inverse_transform(pred_tags)\n",
        "label=label[1:-1]\n",
        "\n",
        "#print(word_tokenize(test[0]))\n",
        "print(label)\n",
        "#print(words_mapping[0])\n",
        "\n",
        "idx=0\n",
        "for i,(w,m) in enumerate(zip(word_tokenize(test[0]),words_mapping[0])):\n",
        "\n",
        "  l=label[idx:idx+m]\n",
        "  #print(l)\n",
        "  if \"I\" in l or \"B\" in l:\n",
        "    print(w)\n",
        "\n",
        "  idx+=m\n"
      ],
      "execution_count": null,
      "outputs": []
    }
  ]
}