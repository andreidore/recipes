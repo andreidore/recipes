{
  "nbformat": 4,
  "nbformat_minor": 0,
  "metadata": {
    "colab": {
      "name": "recipies.ipynb",
      "provenance": [],
      "collapsed_sections": [],
      "machine_shape": "hm",
      "authorship_tag": "ABX9TyPAVHYcoJwQR3WW5Rl7NL3O",
      "include_colab_link": true
    },
    "kernelspec": {
      "name": "python3",
      "display_name": "Python 3"
    },
    "language_info": {
      "name": "python"
    }
  },
  "cells": [
    {
      "cell_type": "markdown",
      "metadata": {
        "id": "view-in-github",
        "colab_type": "text"
      },
      "source": [
        "<a href=\"https://colab.research.google.com/github/andreidore/recipes/blob/main/recipies.ipynb\" target=\"_parent\"><img src=\"https://colab.research.google.com/assets/colab-badge.svg\" alt=\"Open In Colab\"/></a>"
      ]
    },
    {
      "cell_type": "code",
      "metadata": {
        "colab": {
          "base_uri": "https://localhost:8080/"
        },
        "id": "PZcDDTL4cqyX",
        "outputId": "0e1adc31-c701-4136-b404-93e81d6bdf7c"
      },
      "source": [
        "!pip install transformers"
      ],
      "execution_count": 8,
      "outputs": [
        {
          "output_type": "stream",
          "name": "stdout",
          "text": [
            "Requirement already satisfied: transformers in /usr/local/lib/python3.7/dist-packages (4.12.2)\n",
            "Requirement already satisfied: huggingface-hub>=0.0.17 in /usr/local/lib/python3.7/dist-packages (from transformers) (0.0.19)\n",
            "Requirement already satisfied: tokenizers<0.11,>=0.10.1 in /usr/local/lib/python3.7/dist-packages (from transformers) (0.10.3)\n",
            "Requirement already satisfied: importlib-metadata in /usr/local/lib/python3.7/dist-packages (from transformers) (4.8.1)\n",
            "Requirement already satisfied: sacremoses in /usr/local/lib/python3.7/dist-packages (from transformers) (0.0.46)\n",
            "Requirement already satisfied: pyyaml>=5.1 in /usr/local/lib/python3.7/dist-packages (from transformers) (6.0)\n",
            "Requirement already satisfied: regex!=2019.12.17 in /usr/local/lib/python3.7/dist-packages (from transformers) (2019.12.20)\n",
            "Requirement already satisfied: numpy>=1.17 in /usr/local/lib/python3.7/dist-packages (from transformers) (1.19.5)\n",
            "Requirement already satisfied: tqdm>=4.27 in /usr/local/lib/python3.7/dist-packages (from transformers) (4.62.3)\n",
            "Requirement already satisfied: requests in /usr/local/lib/python3.7/dist-packages (from transformers) (2.23.0)\n",
            "Requirement already satisfied: filelock in /usr/local/lib/python3.7/dist-packages (from transformers) (3.3.0)\n",
            "Requirement already satisfied: packaging>=20.0 in /usr/local/lib/python3.7/dist-packages (from transformers) (21.0)\n",
            "Requirement already satisfied: typing-extensions in /usr/local/lib/python3.7/dist-packages (from huggingface-hub>=0.0.17->transformers) (3.7.4.3)\n",
            "Requirement already satisfied: pyparsing>=2.0.2 in /usr/local/lib/python3.7/dist-packages (from packaging>=20.0->transformers) (2.4.7)\n",
            "Requirement already satisfied: zipp>=0.5 in /usr/local/lib/python3.7/dist-packages (from importlib-metadata->transformers) (3.6.0)\n",
            "Requirement already satisfied: idna<3,>=2.5 in /usr/local/lib/python3.7/dist-packages (from requests->transformers) (2.10)\n",
            "Requirement already satisfied: chardet<4,>=3.0.2 in /usr/local/lib/python3.7/dist-packages (from requests->transformers) (3.0.4)\n",
            "Requirement already satisfied: certifi>=2017.4.17 in /usr/local/lib/python3.7/dist-packages (from requests->transformers) (2021.5.30)\n",
            "Requirement already satisfied: urllib3!=1.25.0,!=1.25.1,<1.26,>=1.21.1 in /usr/local/lib/python3.7/dist-packages (from requests->transformers) (1.24.3)\n",
            "Requirement already satisfied: joblib in /usr/local/lib/python3.7/dist-packages (from sacremoses->transformers) (1.0.1)\n",
            "Requirement already satisfied: six in /usr/local/lib/python3.7/dist-packages (from sacremoses->transformers) (1.15.0)\n",
            "Requirement already satisfied: click in /usr/local/lib/python3.7/dist-packages (from sacremoses->transformers) (7.1.2)\n"
          ]
        }
      ]
    },
    {
      "cell_type": "code",
      "metadata": {
        "id": "KAXT6WL-aSfx"
      },
      "source": [
        "import pandas as pd\n",
        "import re\n",
        "import nltk\n",
        "from nltk.corpus import stopwords\n",
        "from nltk.tokenize import word_tokenize, sent_tokenize\n",
        "import matplotlib.pyplot as plt\n",
        "from sklearn import preprocessing\n",
        "import tensorflow as tf\n",
        "import tensorflow.keras as keras\n",
        "from tqdm import tqdm\n",
        "from transformers import AutoTokenizer, TFBertModel, BertConfig"
      ],
      "execution_count": 41,
      "outputs": []
    },
    {
      "cell_type": "code",
      "metadata": {
        "colab": {
          "base_uri": "https://localhost:8080/"
        },
        "id": "9a_Q1w5-oYQV",
        "outputId": "6ccff40f-4273-48d9-f96b-c313b6e7dfb8"
      },
      "source": [
        "nltk.download('stopwords')\n",
        "nltk.download('punkt')\n",
        "stop_words = set(stopwords.words('english'))\n",
        "\n",
        "\n",
        "\n",
        "tokenizer = AutoTokenizer.from_pretrained(\"bert-base-uncased\")\n"
      ],
      "execution_count": 44,
      "outputs": [
        {
          "output_type": "stream",
          "name": "stdout",
          "text": [
            "[nltk_data] Downloading package stopwords to /root/nltk_data...\n",
            "[nltk_data]   Package stopwords is already up-to-date!\n",
            "[nltk_data] Downloading package punkt to /root/nltk_data...\n",
            "[nltk_data]   Package punkt is already up-to-date!\n"
          ]
        }
      ]
    },
    {
      "cell_type": "code",
      "metadata": {
        "id": "pcvguEzqabTG"
      },
      "source": [
        "df=pd.read_csv(\"recipes.csv\",sep=\";\")"
      ],
      "execution_count": 11,
      "outputs": []
    },
    {
      "cell_type": "code",
      "metadata": {
        "colab": {
          "base_uri": "https://localhost:8080/",
          "height": 306
        },
        "id": "fFpnu7zAbSPx",
        "outputId": "c2729c27-4955-470a-9932-8bd88159a7a7"
      },
      "source": [
        "df.head()"
      ],
      "execution_count": 12,
      "outputs": [
        {
          "output_type": "execute_result",
          "data": {
            "text/html": [
              "<div>\n",
              "<style scoped>\n",
              "    .dataframe tbody tr th:only-of-type {\n",
              "        vertical-align: middle;\n",
              "    }\n",
              "\n",
              "    .dataframe tbody tr th {\n",
              "        vertical-align: top;\n",
              "    }\n",
              "\n",
              "    .dataframe thead th {\n",
              "        text-align: right;\n",
              "    }\n",
              "</style>\n",
              "<table border=\"1\" class=\"dataframe\">\n",
              "  <thead>\n",
              "    <tr style=\"text-align: right;\">\n",
              "      <th></th>\n",
              "      <th>Recipe Name</th>\n",
              "      <th>Review Count</th>\n",
              "      <th>Recipe Photo</th>\n",
              "      <th>Author</th>\n",
              "      <th>Prepare Time</th>\n",
              "      <th>Cook Time</th>\n",
              "      <th>Total Time</th>\n",
              "      <th>Ingredients</th>\n",
              "      <th>Directions</th>\n",
              "      <th>RecipeID</th>\n",
              "    </tr>\n",
              "  </thead>\n",
              "  <tbody>\n",
              "    <tr>\n",
              "      <th>0</th>\n",
              "      <td>Golden Crescent Rolls Recipe</td>\n",
              "      <td>304</td>\n",
              "      <td>https://images.media-allrecipes.com/userphotos...</td>\n",
              "      <td>Mike A.</td>\n",
              "      <td>25 m</td>\n",
              "      <td>15 m</td>\n",
              "      <td>3 h 10 m</td>\n",
              "      <td>yeast,water,white sugar,salt,egg,butter,flour,...</td>\n",
              "      <td>Dissolve yeast in warm water.**Stir in sugar, ...</td>\n",
              "      <td>7000</td>\n",
              "    </tr>\n",
              "    <tr>\n",
              "      <th>1</th>\n",
              "      <td>Poppy Seed Bread with Glaze Recipe</td>\n",
              "      <td>137</td>\n",
              "      <td>https://images.media-allrecipes.com/userphotos...</td>\n",
              "      <td>Christina Jun</td>\n",
              "      <td>15 m</td>\n",
              "      <td>1 h</td>\n",
              "      <td>1 h 20 m</td>\n",
              "      <td>flour,salt,baking powder,poppy,butter,vegetabl...</td>\n",
              "      <td>'Preheat oven to 350 degrees F (175 degrees C)...</td>\n",
              "      <td>7001</td>\n",
              "    </tr>\n",
              "    <tr>\n",
              "      <th>2</th>\n",
              "      <td>Applesauce Bread I Recipe</td>\n",
              "      <td>124</td>\n",
              "      <td>https://images.media-allrecipes.com/userphotos...</td>\n",
              "      <td>GAF55</td>\n",
              "      <td>10 m</td>\n",
              "      <td>1 h 20 m</td>\n",
              "      <td>1 h 30 m</td>\n",
              "      <td>flour,egg,white sugar,vegetable oil,applesauce...</td>\n",
              "      <td>Preheat oven to 350 degrees F (175 degrees C)....</td>\n",
              "      <td>7003</td>\n",
              "    </tr>\n",
              "    <tr>\n",
              "      <th>3</th>\n",
              "      <td>Apple Raisin Bread Recipe</td>\n",
              "      <td>39</td>\n",
              "      <td>https://images.media-allrecipes.com/userphotos...</td>\n",
              "      <td>Helen Hanson</td>\n",
              "      <td>15 m</td>\n",
              "      <td>1 h</td>\n",
              "      <td>1 h 15 m</td>\n",
              "      <td>flour,baking powder,baking soda,salt,cinnamon,...</td>\n",
              "      <td>Preheat oven to 350 degrees F (175 degrees C)....</td>\n",
              "      <td>7006</td>\n",
              "    </tr>\n",
              "    <tr>\n",
              "      <th>4</th>\n",
              "      <td>Buttermilk Oatmeal Bread Recipe</td>\n",
              "      <td>41</td>\n",
              "      <td>https://images.media-allrecipes.com/userphotos...</td>\n",
              "      <td>Helen Hanson</td>\n",
              "      <td>10 m</td>\n",
              "      <td>1 h</td>\n",
              "      <td>1 h 40 m</td>\n",
              "      <td>oat,buttermilk,vegetable oil,egg,brown sugar,f...</td>\n",
              "      <td>Mix oats with buttermilk.  Let stand for 1/2 h...</td>\n",
              "      <td>7007</td>\n",
              "    </tr>\n",
              "  </tbody>\n",
              "</table>\n",
              "</div>"
            ],
            "text/plain": [
              "                           Recipe Name  ... RecipeID\n",
              "0        Golden Crescent Rolls Recipe   ...     7000\n",
              "1  Poppy Seed Bread with Glaze Recipe   ...     7001\n",
              "2           Applesauce Bread I Recipe   ...     7003\n",
              "3           Apple Raisin Bread Recipe   ...     7006\n",
              "4     Buttermilk Oatmeal Bread Recipe   ...     7007\n",
              "\n",
              "[5 rows x 10 columns]"
            ]
          },
          "metadata": {},
          "execution_count": 12
        }
      ]
    },
    {
      "cell_type": "code",
      "metadata": {
        "colab": {
          "base_uri": "https://localhost:8080/",
          "height": 204
        },
        "id": "-265HM2jc21s",
        "outputId": "68c70377-c2cf-40c5-ce3a-e436077c490d"
      },
      "source": [
        "df=df[[\"Ingredients\",\"Directions\"]]\n",
        "df.head()"
      ],
      "execution_count": 13,
      "outputs": [
        {
          "output_type": "execute_result",
          "data": {
            "text/html": [
              "<div>\n",
              "<style scoped>\n",
              "    .dataframe tbody tr th:only-of-type {\n",
              "        vertical-align: middle;\n",
              "    }\n",
              "\n",
              "    .dataframe tbody tr th {\n",
              "        vertical-align: top;\n",
              "    }\n",
              "\n",
              "    .dataframe thead th {\n",
              "        text-align: right;\n",
              "    }\n",
              "</style>\n",
              "<table border=\"1\" class=\"dataframe\">\n",
              "  <thead>\n",
              "    <tr style=\"text-align: right;\">\n",
              "      <th></th>\n",
              "      <th>Ingredients</th>\n",
              "      <th>Directions</th>\n",
              "    </tr>\n",
              "  </thead>\n",
              "  <tbody>\n",
              "    <tr>\n",
              "      <th>0</th>\n",
              "      <td>yeast,water,white sugar,salt,egg,butter,flour,...</td>\n",
              "      <td>Dissolve yeast in warm water.**Stir in sugar, ...</td>\n",
              "    </tr>\n",
              "    <tr>\n",
              "      <th>1</th>\n",
              "      <td>flour,salt,baking powder,poppy,butter,vegetabl...</td>\n",
              "      <td>'Preheat oven to 350 degrees F (175 degrees C)...</td>\n",
              "    </tr>\n",
              "    <tr>\n",
              "      <th>2</th>\n",
              "      <td>flour,egg,white sugar,vegetable oil,applesauce...</td>\n",
              "      <td>Preheat oven to 350 degrees F (175 degrees C)....</td>\n",
              "    </tr>\n",
              "    <tr>\n",
              "      <th>3</th>\n",
              "      <td>flour,baking powder,baking soda,salt,cinnamon,...</td>\n",
              "      <td>Preheat oven to 350 degrees F (175 degrees C)....</td>\n",
              "    </tr>\n",
              "    <tr>\n",
              "      <th>4</th>\n",
              "      <td>oat,buttermilk,vegetable oil,egg,brown sugar,f...</td>\n",
              "      <td>Mix oats with buttermilk.  Let stand for 1/2 h...</td>\n",
              "    </tr>\n",
              "  </tbody>\n",
              "</table>\n",
              "</div>"
            ],
            "text/plain": [
              "                                         Ingredients                                         Directions\n",
              "0  yeast,water,white sugar,salt,egg,butter,flour,...  Dissolve yeast in warm water.**Stir in sugar, ...\n",
              "1  flour,salt,baking powder,poppy,butter,vegetabl...  'Preheat oven to 350 degrees F (175 degrees C)...\n",
              "2  flour,egg,white sugar,vegetable oil,applesauce...  Preheat oven to 350 degrees F (175 degrees C)....\n",
              "3  flour,baking powder,baking soda,salt,cinnamon,...  Preheat oven to 350 degrees F (175 degrees C)....\n",
              "4  oat,buttermilk,vegetable oil,egg,brown sugar,f...  Mix oats with buttermilk.  Let stand for 1/2 h..."
            ]
          },
          "metadata": {},
          "execution_count": 13
        }
      ]
    },
    {
      "cell_type": "code",
      "metadata": {
        "colab": {
          "base_uri": "https://localhost:8080/"
        },
        "id": "eIuNfS50dAmQ",
        "outputId": "45a3296a-ff7e-41c3-f3b9-a36fa3757c5d"
      },
      "source": [
        "df.shape"
      ],
      "execution_count": 14,
      "outputs": [
        {
          "output_type": "execute_result",
          "data": {
            "text/plain": [
              "(12351, 2)"
            ]
          },
          "metadata": {},
          "execution_count": 14
        }
      ]
    },
    {
      "cell_type": "code",
      "metadata": {
        "id": "gtqqwBw7e-sm"
      },
      "source": [
        "df.dropna(inplace=True)\n",
        "df.drop_duplicates(subset=[\"Directions\"], inplace=True)"
      ],
      "execution_count": 15,
      "outputs": []
    },
    {
      "cell_type": "code",
      "metadata": {
        "colab": {
          "base_uri": "https://localhost:8080/",
          "height": 204
        },
        "id": "1VWdUa--Nub2",
        "outputId": "a7ec98d8-0b3b-498d-cc82-32120b1181f8"
      },
      "source": [
        " df['Directions']=df['Directions'].str.lower()\n",
        " df['Ingredients']=df['Ingredients'].str.lower()\n",
        " df.head()"
      ],
      "execution_count": 52,
      "outputs": [
        {
          "output_type": "execute_result",
          "data": {
            "text/html": [
              "<div>\n",
              "<style scoped>\n",
              "    .dataframe tbody tr th:only-of-type {\n",
              "        vertical-align: middle;\n",
              "    }\n",
              "\n",
              "    .dataframe tbody tr th {\n",
              "        vertical-align: top;\n",
              "    }\n",
              "\n",
              "    .dataframe thead th {\n",
              "        text-align: right;\n",
              "    }\n",
              "</style>\n",
              "<table border=\"1\" class=\"dataframe\">\n",
              "  <thead>\n",
              "    <tr style=\"text-align: right;\">\n",
              "      <th></th>\n",
              "      <th>Ingredients</th>\n",
              "      <th>Directions</th>\n",
              "    </tr>\n",
              "  </thead>\n",
              "  <tbody>\n",
              "    <tr>\n",
              "      <th>0</th>\n",
              "      <td>yeast,water,white sugar,salt,egg,butter,flour,...</td>\n",
              "      <td>dissolve yeast in warm water.**stir in sugar, ...</td>\n",
              "    </tr>\n",
              "    <tr>\n",
              "      <th>1</th>\n",
              "      <td>flour,salt,baking powder,poppy,butter,vegetabl...</td>\n",
              "      <td>'preheat oven to 350 degrees f (175 degrees c)...</td>\n",
              "    </tr>\n",
              "    <tr>\n",
              "      <th>2</th>\n",
              "      <td>flour,egg,white sugar,vegetable oil,applesauce...</td>\n",
              "      <td>preheat oven to 350 degrees f (175 degrees c)....</td>\n",
              "    </tr>\n",
              "    <tr>\n",
              "      <th>3</th>\n",
              "      <td>flour,baking powder,baking soda,salt,cinnamon,...</td>\n",
              "      <td>preheat oven to 350 degrees f (175 degrees c)....</td>\n",
              "    </tr>\n",
              "    <tr>\n",
              "      <th>4</th>\n",
              "      <td>oat,buttermilk,vegetable oil,egg,brown sugar,f...</td>\n",
              "      <td>mix oats with buttermilk.  let stand for 1/2 h...</td>\n",
              "    </tr>\n",
              "  </tbody>\n",
              "</table>\n",
              "</div>"
            ],
            "text/plain": [
              "                                         Ingredients                                         Directions\n",
              "0  yeast,water,white sugar,salt,egg,butter,flour,...  dissolve yeast in warm water.**stir in sugar, ...\n",
              "1  flour,salt,baking powder,poppy,butter,vegetabl...  'preheat oven to 350 degrees f (175 degrees c)...\n",
              "2  flour,egg,white sugar,vegetable oil,applesauce...  preheat oven to 350 degrees f (175 degrees c)....\n",
              "3  flour,baking powder,baking soda,salt,cinnamon,...  preheat oven to 350 degrees f (175 degrees c)....\n",
              "4  oat,buttermilk,vegetable oil,egg,brown sugar,f...  mix oats with buttermilk.  let stand for 1/2 h..."
            ]
          },
          "metadata": {},
          "execution_count": 52
        }
      ]
    },
    {
      "cell_type": "code",
      "metadata": {
        "id": "LJfDTl4Wjq9Z"
      },
      "source": [
        ""
      ],
      "execution_count": 15,
      "outputs": []
    },
    {
      "cell_type": "code",
      "metadata": {
        "colab": {
          "base_uri": "https://localhost:8080/"
        },
        "id": "I97v5rxvfDMi",
        "outputId": "10787ce1-158e-42c1-f8ca-28dbdae33e18"
      },
      "source": [
        "df.shape"
      ],
      "execution_count": 16,
      "outputs": [
        {
          "output_type": "execute_result",
          "data": {
            "text/plain": [
              "(12184, 2)"
            ]
          },
          "metadata": {},
          "execution_count": 16
        }
      ]
    },
    {
      "cell_type": "code",
      "metadata": {
        "colab": {
          "base_uri": "https://localhost:8080/"
        },
        "id": "Yk7vbJ3cdKHw",
        "outputId": "eb7fb87a-af5c-4c72-bb06-118bdd6031ee"
      },
      "source": [
        "def filter(w):\n",
        "\n",
        "  if w.lower in stop_words:\n",
        "    return False\n",
        "\n",
        "  if not w.isalpha():\n",
        "    return False\n",
        "\n",
        "  if len(w)<=2:\n",
        "    return False\n",
        "\n",
        "  if w in [\"cup\",\"cups\",\"fluid\",\"ounce\",\"ounces\",\"dash\",\"dashes\",\"gallon\",\"inch\",\n",
        "           \"square\",\"inches\",\"thick\",\"make\",\"combine\",\"with\",\"the\",\"bottle\",\n",
        "           \"bottled\",\"can\",\"cans\",\"envelope\",\"container\",\"jar\",\"package\",\"packets\",\n",
        "           \"packet\",\"pound\",\"pounds\",\"recipe\",\"rinsed\",\"dried\",\"split\",\"steam\",\"tablespoon\",\n",
        "           \"tablespoons\",\"teaspoons\",\"teaspoon\",\"and\",\"any\"]:\n",
        "    return False\n",
        "\n",
        "  return True\n",
        "\n",
        "\n",
        "\n",
        "def map_ingredient(ingredients):\n",
        "\n",
        "    word_tokens = word_tokenize(ingredients)\n",
        "    \n",
        "    filtered_sentence = [w.lower() for w in word_tokens if filter(w)]\n",
        "\n",
        "    return \" \".join(filtered_sentence)\n",
        "\n",
        "\n",
        "\n",
        "ingredients= [map_ingredient(item) for ing in df[\"Ingredients\"].values for item in ing.split(\",\")]\n",
        "ingredients =[ing for ing in ingredients if len(ing)>0]\n",
        "\n",
        "\n",
        "print(ingredients[0:30])\n",
        "\n",
        "ingredients= set(ingredients)\n",
        "print(len(ingredients))\n",
        "#ingredients"
      ],
      "execution_count": 17,
      "outputs": [
        {
          "output_type": "stream",
          "name": "stdout",
          "text": [
            "['yeast', 'water', 'white sugar', 'salt', 'egg', 'butter', 'flour', 'butter', 'flour', 'salt', 'baking powder', 'poppy', 'butter', 'vegetable oil', 'egg', 'milk', 'white sugar', 'vanilla', 'almond', 'orange juice', 'butter', 'almond', 'vanilla', 'sugar', 'flour', 'egg', 'white sugar', 'vegetable oil', 'applesauce', 'raisin']\n",
            "751\n"
          ]
        }
      ]
    },
    {
      "cell_type": "code",
      "metadata": {
        "id": "E05jZV47krIc"
      },
      "source": [
        "def get_label(direction_sentence,ingredients):\n",
        "\n",
        "  word_tokens = word_tokenize(direction_sentence)\n",
        "  #print(word_tokens)\n",
        "  \n",
        "  labels=[\"O\"]*len(word_tokens)\n",
        "\n",
        "  #return labels\n",
        "\n",
        "  for w in ingredients:\n",
        "\n",
        "    finds=[m.start() for m in re.finditer(w, direction_sentence)]\n",
        "    if len(finds)>0:\n",
        "      #print(w,finds)\n",
        "\n",
        "      words_ingredients_len=len(word_tokenize(w))\n",
        "\n",
        "      for f in finds:\n",
        "\n",
        "        prev_sentence=direction_sentence[:f]\n",
        "\n",
        "        len_prev_sent_words = len(word_tokenize(prev_sentence))\n",
        "\n",
        "        if labels[len_prev_sent_words]==\"I\" or labels[len_prev_sent_words]==\"B\":\n",
        "          continue\n",
        "\n",
        "        if words_ingredients_len==1:\n",
        "          labels[len_prev_sent_words]=\"I\"\n",
        "        else:\n",
        "          labels[len_prev_sent_words:len_prev_sent_words+words_ingredients_len]=[\"B\"]+[\"I\"]*(words_ingredients_len-1)\n",
        "\n",
        "  \n",
        "  return labels  \n"
      ],
      "execution_count": 68,
      "outputs": []
    },
    {
      "cell_type": "code",
      "metadata": {
        "colab": {
          "base_uri": "https://localhost:8080/"
        },
        "id": "BspxqkSr_WFT",
        "outputId": "fd1fe69b-5f8f-4a62-94a7-2050e213507e"
      },
      "source": [
        "#sentence=\"Dissolve yeast in warm water and wheat germ and baking powder and water\"\n",
        "sentence=\"**stir in sugar, salt, eggs, butter, and 2 cups of flour\"\n",
        "label=get_label(sentence,ingredients)\n",
        "print(sentence)\n",
        "print(label)"
      ],
      "execution_count": 69,
      "outputs": [
        {
          "output_type": "stream",
          "name": "stdout",
          "text": [
            "**stir in sugar, salt, eggs, butter, and 2 cups of flour\n",
            "['O', 'O', 'I', 'O', 'I', 'O', 'I', 'O', 'I', 'O', 'O', 'O', 'O', 'O', 'I']\n"
          ]
        }
      ]
    },
    {
      "cell_type": "code",
      "metadata": {
        "colab": {
          "base_uri": "https://localhost:8080/",
          "height": 367
        },
        "id": "PyMJQMDBhGSH",
        "outputId": "56f566b0-fe7e-4d52-d9ad-79cdf8b9711a"
      },
      "source": [
        "sentences=df[\"Directions\"].values\n",
        "len(sentences)\n",
        "sentences=[s for rec in sentences  for s in sent_tokenize(rec)]\n",
        "print(len(sentences))\n",
        "sentences_len=list(map(lambda x:len(word_tokenize(x)), sentences))\n",
        "\n",
        "print(sentences_len[0:10])\n",
        "\n",
        "\n",
        "plt.hist(sentences_len)\n"
      ],
      "execution_count": 53,
      "outputs": [
        {
          "output_type": "stream",
          "name": "stdout",
          "text": [
            "113276\n",
            "[6, 16, 4, 7, 7, 22, 4, 4, 8, 4]\n"
          ]
        },
        {
          "output_type": "execute_result",
          "data": {
            "text/plain": [
              "(array([4.3089e+04, 4.5893e+04, 1.7927e+04, 5.2470e+03, 8.7100e+02,\n",
              "        1.5900e+02, 7.7000e+01, 1.1000e+01, 1.0000e+00, 1.0000e+00]),\n",
              " array([ 1. ,  8.3, 15.6, 22.9, 30.2, 37.5, 44.8, 52.1, 59.4, 66.7, 74. ]),\n",
              " <a list of 10 Patch objects>)"
            ]
          },
          "metadata": {},
          "execution_count": 53
        },
        {
          "output_type": "display_data",
          "data": {
            "image/png": "[encoded data removed]",
            "text/plain": [
              "<Figure size 432x288 with 1 Axes>"
            ]
          },
          "metadata": {
            "needs_background": "light"
          }
        }
      ]
    },
    {
      "cell_type": "code",
      "metadata": {
        "id": "VtWoxnonhtEc"
      },
      "source": [
        ""
      ],
      "execution_count": 22,
      "outputs": []
    },
    {
      "cell_type": "code",
      "metadata": {
        "id": "gdsoW2WUhtML"
      },
      "source": [
        ""
      ],
      "execution_count": 22,
      "outputs": []
    },
    {
      "cell_type": "code",
      "metadata": {
        "colab": {
          "base_uri": "https://localhost:8080/"
        },
        "id": "eS9DRP3ThXgQ",
        "outputId": "1030fd09-8682-4fd8-a50e-5d35ca961f5f"
      },
      "source": [
        "sentences=sentences[:2]\n",
        "\n",
        "dataset_dict = {\n",
        "        \"input_ids\": [],\n",
        "        \"token_type_ids\": [],\n",
        "        \"attention_mask\": [],\n",
        "        \"tags\": []\n",
        "    }\n",
        "\n",
        "\n",
        "for sentence in sentences:\n",
        "  input_ids = []\n",
        "  target_tags = []\n",
        "\n",
        "  labels=get_label(sentence,ingredients)  \n",
        "  print(sentence)\n",
        "  print(labels)\n",
        "  \n",
        "  for idx, word in enumerate(word_tokenize(sentence)):\n",
        "      #print(word) \n",
        "      ids = tokenizer.encode(word, add_special_tokens=False)\n",
        "      #print(ids)\n",
        "      input_ids.extend(ids)\n",
        "      num_tokens = len(ids)\n",
        "      target_tags.extend([labels[idx]] * num_tokens)\n",
        "\n",
        "  print(target_tags)\n",
        "\n"
      ],
      "execution_count": 72,
      "outputs": [
        {
          "output_type": "stream",
          "name": "stdout",
          "text": [
            "dissolve yeast in warm water.\n",
            "['O', 'I', 'O', 'O', 'I', 'O']\n",
            "['O', 'I', 'O', 'O', 'I', 'O']\n",
            "**stir in sugar, salt, eggs, butter, and 2 cups of flour.\n",
            "['O', 'O', 'I', 'O', 'I', 'O', 'I', 'O', 'I', 'O', 'O', 'O', 'O', 'O', 'I', 'O']\n",
            "['O', 'O', 'O', 'O', 'I', 'O', 'I', 'O', 'I', 'O', 'I', 'O', 'O', 'O', 'O', 'O', 'I', 'O']\n"
          ]
        }
      ]
    }
  ]
}